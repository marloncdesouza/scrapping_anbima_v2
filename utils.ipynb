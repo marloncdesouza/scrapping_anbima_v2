{
 "cells": [
  {
   "cell_type": "code",
   "execution_count": 25,
   "metadata": {},
   "outputs": [],
   "source": [
    "# Libraries\n",
    "\n",
    "from selenium import webdriver # exe to simulate browser\n",
    "from selenium.webdriver.common.keys import Keys # to send data for website\n",
    "from webdriver_manager.chrome import ChromeDriverManager # to install exe\n",
    "from selenium.webdriver.chrome.options import Options # set options to broser\n",
    "from selenium.webdriver.support.ui import WebDriverWait # wait conditions to scrap data\n",
    "from selenium.webdriver.support import expected_conditions as EC # set conditions\n",
    "from selenium.webdriver.common.by import By # way to scrap data\n",
    "from os import remove\n",
    "import pandas as pd # read and write excel\n",
    "import datetime # set today\n",
    "import time\n",
    "\n",
    "\n",
    "# set Headless tab\n",
    "chrome_options = Options()\n",
    "chrome_options.add_argument('--headless')\n",
    "chrome_options.add_argument(\"--window-size=1920,1080\")\n",
    "\n",
    "# set the day\n",
    "hoje = datetime.datetime.now()\n",
    "hoje =hoje.strftime(\"%d%m%Y\")"
   ]
  },
  {
   "cell_type": "code",
   "execution_count": 26,
   "metadata": {},
   "outputs": [],
   "source": [
    "def connect_page():\n",
    "    # set drive\n",
    "    driver = webdriver.Chrome(executable_path=ChromeDriverManager().install(),options=chrome_options) # install driver\n",
    "    # get the page\n",
    "    driver.get(\"https://www.anbima.com.br/pt_br/informar/sistema-reune.htm\") # select page REUNE\n",
    "    return driver"
   ]
  },
  {
   "cell_type": "code",
   "execution_count": 27,
   "metadata": {},
   "outputs": [],
   "source": [
    "def connect_page_web():\n",
    "    # set drive\n",
    "    driver = webdriver.Chrome(executable_path=ChromeDriverManager().install())\n",
    "    # get the page\n",
    "    driver.get(\"https://www.anbima.com.br/pt_br/informar/sistema-reune.htm\")\n",
    "    return driver"
   ]
  },
  {
   "cell_type": "code",
   "execution_count": 28,
   "metadata": {},
   "outputs": [],
   "source": [
    "def set_iframe(driver):\n",
    "    # get the iframes\n",
    "    frame = driver.find_elements_by_tag_name(\"iframe\") \n",
    "    # choose iframe\n",
    "    driver.switch_to.frame(frame[0])\n",
    "    return driver"
   ]
  },
  {
   "cell_type": "code",
   "execution_count": 29,
   "metadata": {},
   "outputs": [],
   "source": [
    "def choose_date(data,driver):\n",
    "    # Find date element\n",
    "    wait = WebDriverWait(driver, 10)\n",
    "    wait.until(EC.element_to_be_clickable((By.NAME, \"Dt_Ref\")))\n",
    "    elem = driver.find_element_by_name('Dt_Ref')\n",
    "    # Send keys to data element\n",
    "    elem.clear()\n",
    "    elem.send_keys(data)"
   ]
  },
  {
   "cell_type": "code",
   "execution_count": 30,
   "metadata": {},
   "outputs": [],
   "source": [
    "def choose_index(index,driver):\n",
    "    # find index element\n",
    "    wait = WebDriverWait(driver, 10)\n",
    "    wait.until(EC.element_to_be_clickable((By.TAG_NAME, \"option\")))\n",
    "    all_options = driver.find_elements_by_tag_name(\"option\")\n",
    "    # choose index element\n",
    "    for option in all_options:\n",
    "        #print(\"Value is: %s\" % option.get_attribute(\"value\"))\n",
    "        if option.get_attribute(\"value\") == index:\n",
    "            option.click()"
   ]
  },
  {
   "cell_type": "code",
   "execution_count": 31,
   "metadata": {},
   "outputs": [],
   "source": [
    "def choose_visualization(driver):\n",
    "    wait = WebDriverWait(driver, 10)\n",
    "    wait.until(EC.element_to_be_clickable((By.CSS_SELECTOR, \"input[name='escolha']\")))\n",
    "    radio = driver.find_elements_by_name(\"escolha\")\n",
    "    radio[1].click()"
   ]
  },
  {
   "cell_type": "code",
   "execution_count": 32,
   "metadata": {},
   "outputs": [],
   "source": [
    "def choose_ext(ext,driver):\n",
    "    # choose to extension\n",
    "    wait = WebDriverWait(driver, 10)\n",
    "    wait.until(EC.element_to_be_clickable((By.CSS_SELECTOR, \"input[value= '\" + ext +  \"']\")))\n",
    "    driver.find_element_by_css_selector(\"input[type='radio'][value= '\" + ext +  \"']\").click()"
   ]
  },
  {
   "cell_type": "code",
   "execution_count": 33,
   "metadata": {},
   "outputs": [],
   "source": [
    "def donwload_file(driver):\n",
    "    # Donwload the file\n",
    "    wait = WebDriverWait(driver, 10)\n",
    "    wait.until(EC.element_to_be_clickable((By.CSS_SELECTOR, \"img[name='Consultar']\")))\n",
    "    driver.find_element_by_css_selector(\"img[name='Consultar']\").click()"
   ]
  },
  {
   "cell_type": "code",
   "execution_count": 34,
   "metadata": {},
   "outputs": [],
   "source": [
    "def read_clean_write(hj):\n",
    "    # read data\n",
    "    data = pd.read_csv('REUNE_Acumulada_%s.csv'%(hj),\n",
    "                           skiprows=[i for i in range(0,3)],\n",
    "                           encoding=\"Latin-1\",sep = \";\")\n",
    "    # clean data\n",
    "    data_clean = data[data.columns[~data.columns.isin(['Unnamed: 1'])]]\n",
    "    #data_clean[\"data\"] = datetime.date.today()\n",
    "    data_clean[\"data\"] = datetime.datetime.strptime(hj,\"%d%m%Y\")\n",
    "    data_clean_filter = data_clean[['CETIP','Tipo','Preço Médio','Faixa de Volume','data']]\n",
    "    # write data\n",
    "    data_old = pd.read_excel('base.xlsx')\n",
    "    data_new = data_old.append(data_clean_filter)\n",
    "    data_new.to_excel('base.xlsx',index=False)\n",
    "    # removinda old data\n",
    "    remove('REUNE_Acumulada_%s.csv'%(hj))"
   ]
  },
  {
   "cell_type": "code",
   "execution_count": 130,
   "metadata": {},
   "outputs": [],
   "source": [
    "def read_clean_write_loop(hj):\n",
    "    data = pd.read_csv('REUNE_Acumulada_%s.csv'%(hj),\n",
    "                           skiprows=[i for i in range(0,3)],\n",
    "                           encoding=\"Latin-1\",sep = \";\")\n",
    "    # clean data\n",
    "    data_clean = data[data.columns[~data.columns.isin(['Unnamed: 1'])]]\n",
    "    data_clean[\"data\"] = datetime.datetime.strptime(hj,\"%d%m%Y\")\n",
    "    data_clean_filter = data_clean[['CETIP','Tipo','Preço Médio','Faixa de Volume','data']]\n",
    "    # removinda old data\n",
    "    remove('REUNE_Acumulada_%s.csv'%(hj))\n",
    "    return data_clean_filter"
   ]
  },
  {
   "cell_type": "code",
   "execution_count": 36,
   "metadata": {},
   "outputs": [],
   "source": [
    "def get_index(data,index=\"CRA\",ext = \"csv\"):\n",
    "    # get page\n",
    "    driver = connect_page()\n",
    "    print(\"get page ok\")\n",
    "    # set iframe\n",
    "    driver = set_iframe(driver)\n",
    "    print(\"set frame ok\")\n",
    "    # choose data\n",
    "    choose_date(data,driver)\n",
    "    print(\"choose data ok\")\n",
    "    # choose index\n",
    "    choose_index(index,driver)\n",
    "    print(\"choose index ok\")\n",
    "    # choose visualization\n",
    "    choose_visualization(driver)\n",
    "    print(\"choose visu ok\")\n",
    "    # choose ext\n",
    "    choose_ext(ext,driver)\n",
    "    # download\n",
    "    donwload_file(driver)\n",
    "    # Sleep code\n",
    "    time.sleep(5)\n",
    "    # join the database\n",
    "    try:\n",
    "        read_clean_write(data)\n",
    "    except:\n",
    "        print(\"Nao ha dados para esse dia\")"
   ]
  },
  {
   "cell_type": "code",
   "execution_count": 131,
   "metadata": {},
   "outputs": [],
   "source": [
    "def get_index_loop(data,index=\"CRA\",ext = \"csv\"):\n",
    "    # get page\n",
    "    driver = connect_page()\n",
    "    # set iframe\n",
    "    driver = set_iframe(driver)\n",
    "    # choose data\n",
    "    choose_date(data,driver)\n",
    "    # choose index\n",
    "    choose_index(index,driver)\n",
    "    # choose visualization\n",
    "    choose_visualization(driver)\n",
    "    # choose ext\n",
    "    choose_ext(ext,driver)\n",
    "    # download\n",
    "    donwload_file(driver)\n",
    "    # Sleep code\n",
    "    time.sleep(5)\n",
    "    # join the database\n",
    "    try:\n",
    "        data_clean = read_clean_write_loop(data)\n",
    "        return data_clean\n",
    "    except:\n",
    "        print(\"Nao ha dados para esse dia\")"
   ]
  },
  {
   "cell_type": "code",
   "execution_count": 151,
   "metadata": {},
   "outputs": [],
   "source": [
    "def loop_data(start_date,end_date, tipo):\n",
    "    \n",
    "    datas = pd.date_range(start=start_date,end=end_date)\n",
    "    data_all = {'CETIP': [],\n",
    "               'Tipo' : [],\n",
    "               'Preço Médio': [],\n",
    "               'Faixa de Volume':[],\n",
    "               'data':[]}\n",
    "    data_all = pd.DataFrame.from_dict(data_all)\n",
    "    for data in datas:\n",
    "        current_data = data.strftime(\"%d%m%Y\")\n",
    "        data_gen = get_index_loop(data = current_data, tipo = index)\n",
    "        data_all = pd.concat([data_all,data_gen])\n",
    "    data_all.to_excel('last_days.xlsx',index=False)"
   ]
  }
 ],
 "metadata": {
  "kernelspec": {
   "display_name": "Python 3",
   "language": "python",
   "name": "python3"
  },
  "language_info": {
   "codemirror_mode": {
    "name": "ipython",
    "version": 3
   },
   "file_extension": ".py",
   "mimetype": "text/x-python",
   "name": "python",
   "nbconvert_exporter": "python",
   "pygments_lexer": "ipython3",
   "version": "3.7.6"
  }
 },
 "nbformat": 4,
 "nbformat_minor": 4
}
