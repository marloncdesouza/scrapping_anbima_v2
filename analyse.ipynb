{
 "cells": [
  {
   "cell_type": "code",
   "execution_count": 1,
   "metadata": {},
   "outputs": [],
   "source": [
    "import utils\n",
    "import pandas as pd\n",
    "from datetime import date\n",
    "\n",
    "today = date.today()"
   ]
  },
  {
   "cell_type": "code",
   "execution_count": 3,
   "metadata": {},
   "outputs": [
    {
     "name": "stderr",
     "output_type": "stream",
     "text": [
      "[WDM] - Current google-chrome version is 83.0.4103\n",
      "[WDM] - Get LATEST driver version for 83.0.4103\n",
      "[WDM] - Driver [/Users/lucas/.wdm/drivers/chromedriver/mac64/83.0.4103.39/chromedriver] found in cache\n"
     ]
    },
    {
     "name": "stdout",
     "output_type": "stream",
     "text": [
      " \n",
      "get page ok\n",
      "set frame ok\n",
      "choose data ok\n",
      "Value is: DEB\n",
      "Value is: CFF\n",
      "Value is: CRA\n",
      "Value is: CRI\n",
      "choose index ok\n",
      "choose visu ok\n"
     ]
    }
   ],
   "source": [
    "utils.get_index(data = \"01062020\",index = \"CRI\",ext = 'csv')"
   ]
  },
  {
   "cell_type": "code",
   "execution_count": 19,
   "metadata": {},
   "outputs": [],
   "source": [
    "data = pd.read_csv('REUNE_Acumulada_23062020.csv',skiprows=[i for i in range(0,3)],encoding=\"Latin-1\",sep = \";\")"
   ]
  },
  {
   "cell_type": "code",
   "execution_count": 20,
   "metadata": {},
   "outputs": [
    {
     "data": {
      "text/html": [
       "<div>\n",
       "<style scoped>\n",
       "    .dataframe tbody tr th:only-of-type {\n",
       "        vertical-align: middle;\n",
       "    }\n",
       "\n",
       "    .dataframe tbody tr th {\n",
       "        vertical-align: top;\n",
       "    }\n",
       "\n",
       "    .dataframe thead th {\n",
       "        text-align: right;\n",
       "    }\n",
       "</style>\n",
       "<table border=\"1\" class=\"dataframe\">\n",
       "  <thead>\n",
       "    <tr style=\"text-align: right;\">\n",
       "      <th></th>\n",
       "      <th>CETIP</th>\n",
       "      <th>Unnamed: 1</th>\n",
       "      <th>ISIN</th>\n",
       "      <th>Tipo</th>\n",
       "      <th>Agrupamento</th>\n",
       "      <th>Taxa Mínima</th>\n",
       "      <th>Taxa Média</th>\n",
       "      <th>Taxa Máxima</th>\n",
       "      <th>Preço Mínimo</th>\n",
       "      <th>Preço Médio</th>\n",
       "      <th>Preço Máximo</th>\n",
       "      <th>Faixa de Volume</th>\n",
       "    </tr>\n",
       "  </thead>\n",
       "  <tbody>\n",
       "    <tr>\n",
       "      <th>0</th>\n",
       "      <td>13G0249947</td>\n",
       "      <td>NaN</td>\n",
       "      <td>BRRBRACRI200</td>\n",
       "      <td>CRI</td>\n",
       "      <td>TOTAL</td>\n",
       "      <td>--</td>\n",
       "      <td>--</td>\n",
       "      <td>--</td>\n",
       "      <td>821,847100</td>\n",
       "      <td>821,847100</td>\n",
       "      <td>821,847100</td>\n",
       "      <td>Até 1MM</td>\n",
       "    </tr>\n",
       "    <tr>\n",
       "      <th>1</th>\n",
       "      <td>13G0249947</td>\n",
       "      <td>NaN</td>\n",
       "      <td>BRRBRACRI200</td>\n",
       "      <td>CRI</td>\n",
       "      <td>SUBTOTAL</td>\n",
       "      <td>--</td>\n",
       "      <td>--</td>\n",
       "      <td>--</td>\n",
       "      <td>821,847100</td>\n",
       "      <td>821,847100</td>\n",
       "      <td>821,847100</td>\n",
       "      <td>Até 1MM</td>\n",
       "    </tr>\n",
       "    <tr>\n",
       "      <th>2</th>\n",
       "      <td>14C0067892</td>\n",
       "      <td>NaN</td>\n",
       "      <td>BRRBRACRI2F8</td>\n",
       "      <td>CRI</td>\n",
       "      <td>TOTAL</td>\n",
       "      <td>--</td>\n",
       "      <td>--</td>\n",
       "      <td>--</td>\n",
       "      <td>1.079,679052</td>\n",
       "      <td>130.232,879526</td>\n",
       "      <td>259.386,080000</td>\n",
       "      <td>Até 1MM</td>\n",
       "    </tr>\n",
       "    <tr>\n",
       "      <th>3</th>\n",
       "      <td>14C0067892</td>\n",
       "      <td>NaN</td>\n",
       "      <td>BRRBRACRI2F8</td>\n",
       "      <td>CRI</td>\n",
       "      <td>SUBTOTAL</td>\n",
       "      <td>--</td>\n",
       "      <td>--</td>\n",
       "      <td>--</td>\n",
       "      <td>1.079,679052</td>\n",
       "      <td>130.232,879526</td>\n",
       "      <td>259.386,080000</td>\n",
       "      <td>Até 1MM</td>\n",
       "    </tr>\n",
       "    <tr>\n",
       "      <th>4</th>\n",
       "      <td>15C0088187</td>\n",
       "      <td>NaN</td>\n",
       "      <td>BRHBSCCRI148</td>\n",
       "      <td>CRI</td>\n",
       "      <td>TOTAL</td>\n",
       "      <td>--</td>\n",
       "      <td>--</td>\n",
       "      <td>--</td>\n",
       "      <td>31.096,784718</td>\n",
       "      <td>31.096,784718</td>\n",
       "      <td>31.096,784718</td>\n",
       "      <td>Até 1MM</td>\n",
       "    </tr>\n",
       "    <tr>\n",
       "      <th>...</th>\n",
       "      <td>...</td>\n",
       "      <td>...</td>\n",
       "      <td>...</td>\n",
       "      <td>...</td>\n",
       "      <td>...</td>\n",
       "      <td>...</td>\n",
       "      <td>...</td>\n",
       "      <td>...</td>\n",
       "      <td>...</td>\n",
       "      <td>...</td>\n",
       "      <td>...</td>\n",
       "      <td>...</td>\n",
       "    </tr>\n",
       "    <tr>\n",
       "      <th>79</th>\n",
       "      <td>20B0980166</td>\n",
       "      <td>NaN</td>\n",
       "      <td>--</td>\n",
       "      <td>CRI</td>\n",
       "      <td>SUBTOTAL</td>\n",
       "      <td>--</td>\n",
       "      <td>--</td>\n",
       "      <td>--</td>\n",
       "      <td>974,245704</td>\n",
       "      <td>974,245704</td>\n",
       "      <td>974,245704</td>\n",
       "      <td>Até 1MM</td>\n",
       "    </tr>\n",
       "    <tr>\n",
       "      <th>80</th>\n",
       "      <td>20C0818565</td>\n",
       "      <td>NaN</td>\n",
       "      <td>--</td>\n",
       "      <td>CRI</td>\n",
       "      <td>TOTAL</td>\n",
       "      <td>--</td>\n",
       "      <td>--</td>\n",
       "      <td>--</td>\n",
       "      <td>1.002,085463</td>\n",
       "      <td>1.002,243358</td>\n",
       "      <td>1.002,401253</td>\n",
       "      <td>Até 1MM</td>\n",
       "    </tr>\n",
       "    <tr>\n",
       "      <th>81</th>\n",
       "      <td>20C0818565</td>\n",
       "      <td>NaN</td>\n",
       "      <td>--</td>\n",
       "      <td>CRI</td>\n",
       "      <td>SUBTOTAL</td>\n",
       "      <td>--</td>\n",
       "      <td>--</td>\n",
       "      <td>--</td>\n",
       "      <td>1.002,085463</td>\n",
       "      <td>1.002,243358</td>\n",
       "      <td>1.002,401253</td>\n",
       "      <td>Até 1MM</td>\n",
       "    </tr>\n",
       "    <tr>\n",
       "      <th>82</th>\n",
       "      <td>20E0031084</td>\n",
       "      <td>NaN</td>\n",
       "      <td>--</td>\n",
       "      <td>CRI</td>\n",
       "      <td>TOTAL</td>\n",
       "      <td>--</td>\n",
       "      <td>--</td>\n",
       "      <td>--</td>\n",
       "      <td>1.026,830760</td>\n",
       "      <td>1.035,004223</td>\n",
       "      <td>1.057,708288</td>\n",
       "      <td>Até 1MM</td>\n",
       "    </tr>\n",
       "    <tr>\n",
       "      <th>83</th>\n",
       "      <td>20E0031084</td>\n",
       "      <td>NaN</td>\n",
       "      <td>--</td>\n",
       "      <td>CRI</td>\n",
       "      <td>SUBTOTAL</td>\n",
       "      <td>--</td>\n",
       "      <td>--</td>\n",
       "      <td>--</td>\n",
       "      <td>1.026,830760</td>\n",
       "      <td>1.035,004223</td>\n",
       "      <td>1.057,708288</td>\n",
       "      <td>Até 1MM</td>\n",
       "    </tr>\n",
       "  </tbody>\n",
       "</table>\n",
       "<p>84 rows × 12 columns</p>\n",
       "</div>"
      ],
      "text/plain": [
       "         CETIP  Unnamed: 1          ISIN Tipo Agrupamento Taxa Mínima  \\\n",
       "0   13G0249947         NaN  BRRBRACRI200  CRI       TOTAL          --   \n",
       "1   13G0249947         NaN  BRRBRACRI200  CRI    SUBTOTAL          --   \n",
       "2   14C0067892         NaN  BRRBRACRI2F8  CRI       TOTAL          --   \n",
       "3   14C0067892         NaN  BRRBRACRI2F8  CRI    SUBTOTAL          --   \n",
       "4   15C0088187         NaN  BRHBSCCRI148  CRI       TOTAL          --   \n",
       "..         ...         ...           ...  ...         ...         ...   \n",
       "79  20B0980166         NaN            --  CRI    SUBTOTAL          --   \n",
       "80  20C0818565         NaN            --  CRI       TOTAL          --   \n",
       "81  20C0818565         NaN            --  CRI    SUBTOTAL          --   \n",
       "82  20E0031084         NaN            --  CRI       TOTAL          --   \n",
       "83  20E0031084         NaN            --  CRI    SUBTOTAL          --   \n",
       "\n",
       "   Taxa Média Taxa Máxima   Preço Mínimo     Preço Médio    Preço Máximo  \\\n",
       "0          --          --     821,847100      821,847100      821,847100   \n",
       "1          --          --     821,847100      821,847100      821,847100   \n",
       "2          --          --   1.079,679052  130.232,879526  259.386,080000   \n",
       "3          --          --   1.079,679052  130.232,879526  259.386,080000   \n",
       "4          --          --  31.096,784718   31.096,784718   31.096,784718   \n",
       "..        ...         ...            ...             ...             ...   \n",
       "79         --          --     974,245704      974,245704      974,245704   \n",
       "80         --          --   1.002,085463    1.002,243358    1.002,401253   \n",
       "81         --          --   1.002,085463    1.002,243358    1.002,401253   \n",
       "82         --          --   1.026,830760    1.035,004223    1.057,708288   \n",
       "83         --          --   1.026,830760    1.035,004223    1.057,708288   \n",
       "\n",
       "   Faixa de Volume  \n",
       "0          Até 1MM  \n",
       "1          Até 1MM  \n",
       "2          Até 1MM  \n",
       "3          Até 1MM  \n",
       "4          Até 1MM  \n",
       "..             ...  \n",
       "79         Até 1MM  \n",
       "80         Até 1MM  \n",
       "81         Até 1MM  \n",
       "82         Até 1MM  \n",
       "83         Até 1MM  \n",
       "\n",
       "[84 rows x 12 columns]"
      ]
     },
     "execution_count": 20,
     "metadata": {},
     "output_type": "execute_result"
    }
   ],
   "source": [
    "data"
   ]
  },
  {
   "cell_type": "code",
   "execution_count": 34,
   "metadata": {},
   "outputs": [],
   "source": [
    "data_clean = data[data.columns[~data.columns.isin(['Unnamed: 1'])]]"
   ]
  },
  {
   "cell_type": "code",
   "execution_count": 38,
   "metadata": {},
   "outputs": [],
   "source": [
    "data_clean[\"data\"] = today"
   ]
  },
  {
   "cell_type": "code",
   "execution_count": null,
   "metadata": {},
   "outputs": [],
   "source": [
    "data_clean"
   ]
  },
  {
   "cell_type": "code",
   "execution_count": 42,
   "metadata": {},
   "outputs": [
    {
     "data": {
      "text/plain": [
       "CETIP              object\n",
       "ISIN               object\n",
       "Tipo               object\n",
       "Agrupamento        object\n",
       "Taxa Mínima        object\n",
       "Taxa Média         object\n",
       "Taxa Máxima        object\n",
       "Preço Mínimo       object\n",
       "Preço Médio        object\n",
       "Preço Máximo       object\n",
       "Faixa de Volume    object\n",
       "data               object\n",
       "dtype: object"
      ]
     },
     "execution_count": 42,
     "metadata": {},
     "output_type": "execute_result"
    }
   ],
   "source": [
    "data_clean.dtypes"
   ]
  },
  {
   "cell_type": "code",
   "execution_count": 35,
   "metadata": {},
   "outputs": [],
   "source": [
    "import sqlite3"
   ]
  },
  {
   "cell_type": "code",
   "execution_count": 36,
   "metadata": {},
   "outputs": [],
   "source": [
    "conn = sqlite3.connect('my_database.sqlite')"
   ]
  },
  {
   "cell_type": "code",
   "execution_count": 37,
   "metadata": {},
   "outputs": [],
   "source": [
    "cursor = conn.cursor()"
   ]
  },
  {
   "cell_type": "code",
   "execution_count": null,
   "metadata": {},
   "outputs": [],
   "source": [
    "cursor.execute('''CREATE TABLE SCHOOL\n",
    "        (ID INT PRIMARY KEY     NOT NULL,\n",
    "         NAME           TEXT    NOT NULL,\n",
    "         AGE            INT     NOT NULL,\n",
    "         ADDRESS        CHAR(50),\n",
    "         MARKS          INT);''')"
   ]
  }
 ],
 "metadata": {
  "kernelspec": {
   "display_name": "Python 3",
   "language": "python",
   "name": "python3"
  },
  "language_info": {
   "codemirror_mode": {
    "name": "ipython",
    "version": 3
   },
   "file_extension": ".py",
   "mimetype": "text/x-python",
   "name": "python",
   "nbconvert_exporter": "python",
   "pygments_lexer": "ipython3",
   "version": "3.7.6"
  }
 },
 "nbformat": 4,
 "nbformat_minor": 4
}
